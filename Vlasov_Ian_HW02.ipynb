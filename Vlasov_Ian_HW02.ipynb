{
 "cells": [
  {
   "cell_type": "markdown",
   "metadata": {},
   "source": [
    "### Код с урока"
   ]
  },
  {
   "cell_type": "code",
   "execution_count": 1,
   "metadata": {},
   "outputs": [
    {
     "name": "stderr",
     "output_type": "stream",
     "text": [
      "Using TensorFlow backend.\n"
     ]
    }
   ],
   "source": [
    "# The full neural network code!\n",
    "###############################\n",
    "import numpy as np\n",
    "\n",
    "from keras.datasets import mnist\n",
    "from keras.models import Sequential\n",
    "from keras.layers import Dense\n",
    "from keras.utils import to_categorical"
   ]
  },
  {
   "cell_type": "code",
   "execution_count": 2,
   "metadata": {},
   "outputs": [],
   "source": [
    "(train_images, train_labels), (test_images, test_labels) = mnist.load_data()"
   ]
  },
  {
   "cell_type": "code",
   "execution_count": 3,
   "metadata": {},
   "outputs": [
    {
     "name": "stdout",
     "output_type": "stream",
     "text": [
      "(60000, 28, 28)\n",
      "(60000,)\n"
     ]
    }
   ],
   "source": [
    "print(train_images.shape)\n",
    "print(train_labels.shape) "
   ]
  },
  {
   "cell_type": "code",
   "execution_count": 4,
   "metadata": {},
   "outputs": [],
   "source": [
    "# Normalize the images.\n",
    "train_images = (train_images / 255) - 0.5\n",
    "test_images = (test_images / 255) - 0.5\n",
    "\n",
    "# Flatten the images.\n",
    "train_images = train_images.reshape((-1, 784))\n",
    "test_images = test_images.reshape((-1, 784))"
   ]
  },
  {
   "cell_type": "code",
   "execution_count": 5,
   "metadata": {},
   "outputs": [],
   "source": [
    "# Build the model.\n",
    "model = Sequential([\n",
    "  Dense(64, activation='relu', input_shape=(784,)),\n",
    "  Dense(64, activation='relu'),\n",
    "  Dense(10, activation='softmax'),\n",
    "])"
   ]
  },
  {
   "cell_type": "code",
   "execution_count": 6,
   "metadata": {},
   "outputs": [],
   "source": [
    "# Compile the model.\n",
    "model.compile(\n",
    "  optimizer='adam',\n",
    "  loss='categorical_crossentropy',\n",
    "  metrics=['accuracy'],\n",
    ")"
   ]
  },
  {
   "cell_type": "code",
   "execution_count": 7,
   "metadata": {},
   "outputs": [
    {
     "name": "stdout",
     "output_type": "stream",
     "text": [
      "Epoch 1/5\n",
      "60000/60000 [==============================] - 2s 35us/step - loss: 0.3530 - accuracy: 0.8937\n",
      "Epoch 2/5\n",
      "60000/60000 [==============================] - 2s 38us/step - loss: 0.1791 - accuracy: 0.9454\n",
      "Epoch 3/5\n",
      "60000/60000 [==============================] - 2s 34us/step - loss: 0.1391 - accuracy: 0.9575\n",
      "Epoch 4/5\n",
      "60000/60000 [==============================] - 2s 30us/step - loss: 0.1185 - accuracy: 0.9628\n",
      "Epoch 5/5\n",
      "60000/60000 [==============================] - 2s 30us/step - loss: 0.1060 - accuracy: 0.9670\n"
     ]
    },
    {
     "data": {
      "text/plain": [
       "<keras.callbacks.callbacks.History at 0x13d470bb0>"
      ]
     },
     "execution_count": 7,
     "metadata": {},
     "output_type": "execute_result"
    }
   ],
   "source": [
    "# Train the model.\n",
    "model.fit(\n",
    "  train_images,\n",
    "  to_categorical(train_labels),\n",
    "  epochs=5,\n",
    "  batch_size=32,\n",
    ")"
   ]
  },
  {
   "cell_type": "code",
   "execution_count": 8,
   "metadata": {},
   "outputs": [
    {
     "name": "stdout",
     "output_type": "stream",
     "text": [
      "10000/10000 [==============================] - 0s 14us/step\n"
     ]
    },
    {
     "data": {
      "text/plain": [
       "[0.12183978099524975, 0.9632999897003174]"
      ]
     },
     "execution_count": 8,
     "metadata": {},
     "output_type": "execute_result"
    }
   ],
   "source": [
    "# Evaluate the model.\n",
    "model.evaluate(\n",
    "  test_images,\n",
    "  to_categorical(test_labels)\n",
    ")"
   ]
  },
  {
   "cell_type": "code",
   "execution_count": 9,
   "metadata": {},
   "outputs": [],
   "source": [
    "# Save the model to disk.\n",
    "model.save_weights('model.h5')"
   ]
  },
  {
   "cell_type": "code",
   "execution_count": 10,
   "metadata": {},
   "outputs": [
    {
     "name": "stdout",
     "output_type": "stream",
     "text": [
      "[7 2 1 0 4]\n",
      "[7 2 1 0 4]\n"
     ]
    }
   ],
   "source": [
    "# Load the model from disk later using:\n",
    "# model.load_weights('model.h5')\n",
    "\n",
    "# Predict on the first 5 test images.\n",
    "predictions = model.predict(test_images[:5])\n",
    "\n",
    "# Print our model's predictions.\n",
    "print(np.argmax(predictions, axis=1)) # [7, 2, 1, 0, 4]\n",
    "\n",
    "# Check our predictions against the ground truths.\n",
    "print(test_labels[:5]) # [7, 2, 1, 0, 4]"
   ]
  },
  {
   "cell_type": "markdown",
   "metadata": {},
   "source": [
    "### Анализ"
   ]
  },
  {
   "cell_type": "markdown",
   "metadata": {},
   "source": [
    "Здесь мы можем менять следующие параметры:\n",
    "* количество слоев\n",
    "* количество нейронов в каждом слое\n",
    "* функцию активации\n",
    "* алгоритм для изменения весов\n",
    "* количество эпох обучения\n",
    "\n",
    "Реализуем функцию для автоматического создания, компиляции и обучения сети с возможностью замены упомянутых параметров"
   ]
  },
  {
   "cell_type": "code",
   "execution_count": 65,
   "metadata": {},
   "outputs": [],
   "source": [
    "def create_nn(train_images, neurons_in_layer=[64, 64], activation='relu', optimizer='adam', n_epochs=5):\n",
    "    \n",
    "    model = Sequential([Dense(neurons_in_layer[0], activation=activation, input_shape=(784,))])\n",
    "    if len(neurons_in_layer) > 1:\n",
    "        for i in range(1, len(neurons_in_layer)):\n",
    "            model.add(Dense(neurons_in_layer[i], activation=activation))\n",
    "    model.add(Dense(10, activation='softmax'))\n",
    "    \n",
    "    model.compile(optimizer=optimizer, loss='categorical_crossentropy', metrics=['accuracy'])\n",
    "    \n",
    "    model.fit(train_images, to_categorical(train_labels), epochs=n_epochs, batch_size=32, verbose=0)\n",
    "    \n",
    "    return model"
   ]
  },
  {
   "cell_type": "code",
   "execution_count": 80,
   "metadata": {},
   "outputs": [],
   "source": [
    "from sklearn.model_selection import ParameterGrid\n",
    "import matplotlib.pyplot as plt\n",
    "import time"
   ]
  },
  {
   "cell_type": "code",
   "execution_count": 87,
   "metadata": {},
   "outputs": [],
   "source": [
    "def evaluate_and_plot_results(test_images, test_labels, train_images, params_list):\n",
    "    for element in params_list:\n",
    "        grid = ParameterGrid(element)\n",
    "        accuracy_list = []\n",
    "        time_list = []\n",
    "        for param in grid:\n",
    "            start = time.time()\n",
    "            model = create_nn(train_images, **param)\n",
    "            end = time.time()\n",
    "            accuracy = model.evaluate(test_images, to_categorical(test_labels), verbose=0)[1]\n",
    "            accuracy_list.append(accuracy)\n",
    "            time_list.append(end - start)\n",
    "        \n",
    "        to_print_acc = [float('{:.3f}'.format(x)) for x in accuracy_list]\n",
    "        to_print_time = [float('{:.3f}'.format(x)) for x in time_list]\n",
    "        print(f'Значения точности: {to_print_acc}')\n",
    "        print(f'Время обучения: {to_print_time}')\n",
    "        fig = plt.figure()\n",
    "        ax = fig.add_axes([0,0,1,1])\n",
    "        ax.bar([str(ele) for ele in list(element.values())[0]], accuracy_list)\n",
    "        plt.grid(True)\n",
    "        plt.ylim(0.85, 1)\n",
    "        plt.xlabel(list(element.keys())[0])\n",
    "        plt.ylabel('Точность')\n",
    "        plt.show()"
   ]
  },
  {
   "cell_type": "code",
   "execution_count": 88,
   "metadata": {},
   "outputs": [],
   "source": [
    "param_list = [{'neurons_in_layer': [[10], [200], [10, 10], [64, 64], [200, 75], [64, 64, 64], [350, 125, 50]]},\n",
    "              {'activation': ['relu', 'sigmoid', 'elu', 'linear']},\n",
    "              {'optimizer': ['adam', 'sgd', 'adamax', 'nadam']},\n",
    "              {'n_epochs': [1, 2, 3, 5, 10, 20]}]"
   ]
  },
  {
   "cell_type": "code",
   "execution_count": 89,
   "metadata": {},
   "outputs": [
    {
     "name": "stdout",
     "output_type": "stream",
     "text": [
      "Значения точности: [0.913, 0.971, 0.902, 0.963, 0.961, 0.958, 0.97]\n",
      "Время обучения: [5.9, 11.417, 6.694, 8.483, 12.228, 9.428, 26.824]\n"
     ]
    },
    {
     "data": {
      "image/png": "[encoded data removed]",
      "text/plain": [
       "<Figure size 432x288 with 1 Axes>"
      ]
     },
     "metadata": {
      "needs_background": "light"
     },
     "output_type": "display_data"
    },
    {
     "name": "stdout",
     "output_type": "stream",
     "text": [
      "Значения точности: [0.968, 0.965, 0.971, 0.898]\n",
      "Время обучения: [9.64, 9.58, 8.436, 8.181]\n"
     ]
    },
    {
     "data": {
      "image/png": "[encoded data removed]",
      "text/plain": [
       "<Figure size 432x288 with 1 Axes>"
      ]
     },
     "metadata": {
      "needs_background": "light"
     },
     "output_type": "display_data"
    },
    {
     "name": "stdout",
     "output_type": "stream",
     "text": [
      "Значения точности: [0.964, 0.94, 0.964, 0.958]\n",
      "Время обучения: [9.361, 7.08, 7.883, 9.267]\n"
     ]
    },
    {
     "data": {
      "image/png": "[encoded data removed]",
      "text/plain": [
       "<Figure size 432x288 with 1 Axes>"
      ]
     },
     "metadata": {
      "needs_background": "light"
     },
     "output_type": "display_data"
    },
    {
     "name": "stdout",
     "output_type": "stream",
     "text": [
      "Значения точности: [0.935, 0.947, 0.959, 0.97, 0.972, 0.969]\n",
      "Время обучения: [2.034, 3.703, 5.327, 8.781, 16.44, 33.331]\n"
     ]
    },
    {
     "data": {
      "image/png": "[encoded data removed]",
      "text/plain": [
       "<Figure size 432x288 with 1 Axes>"
      ]
     },
     "metadata": {
      "needs_background": "light"
     },
     "output_type": "display_data"
    }
   ],
   "source": [
    "evaluate_and_plot_results(test_images, test_labels, train_images, param_list)"
   ]
  },
  {
   "cell_type": "markdown",
   "metadata": {},
   "source": [
    "### Выводы"
   ]
  },
  {
   "cell_type": "markdown",
   "metadata": {},
   "source": [
    "По первому графику:\n",
    "* Увеличение нейронов в слое ведет к повышению точности нейросети\n",
    "* Увеличение количества слоев так же повышает ее точность\n",
    "* Нейросети со слоями в виде пирамиды (постепенно уменьшающимся количеством нейронов) показывают результаты лучше, при этом двухслойная сеть с такой структурой, работает лучше, чем трехслойная\n",
    "* Лучшей оказалась нейросеть из одного скрытого слоя и 200 нейронами в нем\n",
    "\n",
    "По второму:\n",
    "* В данной задаче лучше других себя показывает функция активации elu, в то же время она быстрее по времени вычисления, чем выбранная изначально relu\n",
    "* Используемая по умолчанию функция linear показала худшие результаты, но при этом эта функция активации самая быстрая по времени обучения\n",
    "\n",
    "По третьему:\n",
    "* В данной задаче лучше других себя показал алгоритм adam, выбранный изначально, в то же время он занимает больше вычислительных ресурсов\n",
    "\n",
    "По четвертому:\n",
    "* В графике прослеживается тренд: с увеличением количества эпох обучения увеличивается точность и время обучения\n",
    "\n",
    "Общее:\n",
    "* Увеличение сложности нейросети не всегда ощутимо повышает результат, а иногда даже снижает его\n",
    "* Необходимо соблюдать баланс между сложностью модели и ее точностью, затраченные ресурсы не всегда могут оправдать доли процента выигранной точности"
   ]
  },
  {
   "cell_type": "markdown",
   "metadata": {},
   "source": []
  }
 ],
 "metadata": {
  "kernelspec": {
   "display_name": "Python 3",
   "language": "python",
   "name": "python3"
  },
  "language_info": {
   "codemirror_mode": {
    "name": "ipython",
    "version": 3
   },
   "file_extension": ".py",
   "mimetype": "text/x-python",
   "name": "python",
   "nbconvert_exporter": "python",
   "pygments_lexer": "ipython3",
   "version": "3.8.2"
  }
 },
 "nbformat": 4,
 "nbformat_minor": 4
}
